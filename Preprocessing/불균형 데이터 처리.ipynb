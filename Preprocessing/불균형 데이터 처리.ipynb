{
 "cells": [
  {
   "cell_type": "markdown",
   "id": "d2d276b3",
   "metadata": {},
   "source": [
    "# 불균형 데이터 처리"
   ]
  },
  {
   "cell_type": "markdown",
   "id": "5603dd31",
   "metadata": {},
   "source": [
    "## 1. 필요 라이브러리 import"
   ]
  },
  {
   "cell_type": "code",
   "execution_count": 6,
   "id": "2451064e",
   "metadata": {},
   "outputs": [
    {
     "name": "stdout",
     "output_type": "stream",
     "text": [
      "Collecting imbalanced-learn\n",
      "  Using cached imbalanced_learn-0.9.1-py3-none-any.whl (199 kB)\n",
      "Requirement already satisfied: scipy>=1.3.2 in c:\\users\\user\\anaconda3\\lib\\site-packages (from imbalanced-learn) (1.7.3)\n",
      "Requirement already satisfied: numpy>=1.17.3 in c:\\users\\user\\anaconda3\\lib\\site-packages (from imbalanced-learn) (1.21.5)\n",
      "Requirement already satisfied: joblib>=1.0.0 in c:\\users\\user\\anaconda3\\lib\\site-packages (from imbalanced-learn) (1.1.0)\n",
      "Requirement already satisfied: threadpoolctl>=2.0.0 in c:\\users\\user\\anaconda3\\lib\\site-packages (from imbalanced-learn) (2.2.0)\n",
      "Requirement already satisfied: scikit-learn>=1.1.0 in c:\\users\\user\\anaconda3\\lib\\site-packages (from imbalanced-learn) (1.1.1)\n",
      "Installing collected packages: imbalanced-learn\n",
      "Successfully installed imbalanced-learn-0.9.1\n"
     ]
    }
   ],
   "source": [
    "!pip install -U imbalanced-learn"
   ]
  },
  {
   "cell_type": "code",
   "execution_count": 7,
   "id": "f2ea1dfd",
   "metadata": {},
   "outputs": [],
   "source": [
    "import warnings\n",
    "warnings.simplefilter(action = 'ignore', category = FutureWarning)\n",
    "import numpy as np\n",
    "import pandas as pd\n",
    "%matplotlib inline\n",
    "from matplotlib import pyplot as plt\n",
    "import seaborn as sns\n",
    "from sklearn.datasets import make_classification\n",
    "\n",
    "from imblearn.under_sampling import RandomUnderSampler\n",
    "from imblearn.under_sampling import TomekLinks\n",
    "from imblearn.under_sampling import OneSidedSelection\n",
    "\n",
    "from imblearn.over_sampling import RandomOverSampler\n",
    "from imblearn.over_sampling import SMOTE\n",
    "from imblearn.over_sampling import ADASYN\n",
    "from imblearn.over_sampling import BorderlineSMOTE\n",
    "\n",
    "from sklearn.ensemble import RandomForestClassifier\n",
    "from sklearn.model_selection import RepeatedStratifiedKFold\n",
    "from sklearn.model_selection import cross_validate"
   ]
  },
  {
   "cell_type": "code",
   "execution_count": 8,
   "id": "18d465fc",
   "metadata": {},
   "outputs": [],
   "source": [
    "import os\n",
    "if os.name == 'nt':\n",
    "    font_family = 'Malgun Gothic'\n",
    "else:\n",
    "    font_family = 'AppleGothic'\n",
    "    \n",
    "sns.set(font=font_family, rc = {'axes.unicode_minus' : False})\n",
    "\n",
    "def Randomforest_Result(x,y, title):\n",
    "    \n",
    "    rf = RandomForestClassifier(criterion = 'entropy')\n",
    "    cv_rf = RepeatedStratifiedKFold(n_splits = 10, n_repeats = 3, random_state = 1)\n",
    "    # cv_rf = RepeatedStratifiedKFold(n_splits = 10, n_repeats = 3, random_state = 1)\n",
    "    scores = cross_validate(rf, x, y, scoring = 'f1', cv = cv_rf, n_jobs = -1)\n",
    "    print(title, ':', '3-Fold CV f1 score: %.4f' % np.mean(scores['test_score']))\n",
    "    \n",
    "    return"
   ]
  },
  {
   "cell_type": "markdown",
   "id": "65b6d290",
   "metadata": {},
   "source": [
    "## 2. Under Sampling"
   ]
  },
  {
   "cell_type": "markdown",
   "id": "8bff3f80",
   "metadata": {},
   "source": [
    "### 1) 데이터셋 준비 및 확인"
   ]
  },
  {
   "cell_type": "code",
   "execution_count": 9,
   "id": "559ddddf",
   "metadata": {},
   "outputs": [
    {
     "name": "stdout",
     "output_type": "stream",
     "text": [
      "(10000, 20)\n"
     ]
    },
    {
     "data": {
      "text/plain": [
       "(10000,)"
      ]
     },
     "execution_count": 9,
     "metadata": {},
     "output_type": "execute_result"
    }
   ],
   "source": [
    "X_data, y_class = make_classification(n_classes = 2, class_sep = 2, n_samples = 10000,\n",
    "                                      n_features = 20, weights = [0.9, 0.1], flip_y = 0,\n",
    "                                      n_clusters_per_class = 1, random_state = 10)\n",
    "print(X_data.shape)\n",
    "y_class.shape"
   ]
  },
  {
   "cell_type": "code",
   "execution_count": 10,
   "id": "efd850f9",
   "metadata": {},
   "outputs": [],
   "source": [
    "# count_and_plot 그리기 함수\n",
    "\n",
    "from collections import Counter\n",
    "from matplotlib import pyplot\n",
    "def count_and_plot(y):\n",
    "    counter = Counter(y)\n",
    "    for k,v in counter.items():\n",
    "        print('Class = %d, n = %d(%.3f%%)' % (k, v, v / len(y) * 100))\n",
    "    pyplot.bar(counter.keys(), counter.values())\n",
    "    pyplot.show()"
   ]
  },
  {
   "cell_type": "code",
   "execution_count": 11,
   "id": "c905223e",
   "metadata": {},
   "outputs": [
    {
     "name": "stdout",
     "output_type": "stream",
     "text": [
      "Class = 0, n = 9000(90.000%)\n",
      "Class = 1, n = 1000(10.000%)\n"
     ]
    },
    {
     "data": {
      "image/png": "[encoded data removed]",
      "text/plain": [
       "<Figure size 360x216 with 1 Axes>"
      ]
     },
     "metadata": {},
     "output_type": "display_data"
    }
   ],
   "source": [
    "plt.figure(figsize = (5,3))\n",
    "count_and_plot(y_class)"
   ]
  },
  {
   "cell_type": "code",
   "execution_count": 12,
   "id": "7ca259a5",
   "metadata": {},
   "outputs": [
    {
     "name": "stdout",
     "output_type": "stream",
     "text": [
      "언더 샘플링_원본 데이터 결과 : 3-Fold CV f1 score: 0.9886\n"
     ]
    }
   ],
   "source": [
    "Randomforest_Result(X_data, y_class, \"언더 샘플링_원본 데이터 결과\")"
   ]
  },
  {
   "cell_type": "markdown",
   "id": "dcbcb715",
   "metadata": {},
   "source": [
    "### 2) Random Under Sampling"
   ]
  },
  {
   "cell_type": "code",
   "execution_count": 13,
   "id": "adf8bdc0",
   "metadata": {},
   "outputs": [],
   "source": [
    "under_random = RandomUnderSampler(sampling_strategy = 'majority')\n",
    "X_random, y_random = under_random.fit_resample(X_data, y_class)"
   ]
  },
  {
   "cell_type": "code",
   "execution_count": 14,
   "id": "b6bfa1b1",
   "metadata": {},
   "outputs": [
    {
     "name": "stdout",
     "output_type": "stream",
     "text": [
      "Class = 0, n = 1000(50.000%)\n",
      "Class = 1, n = 1000(50.000%)\n"
     ]
    },
    {
     "data": {
      "image/png": "[encoded data removed]",
      "text/plain": [
       "<Figure size 360x216 with 1 Axes>"
      ]
     },
     "metadata": {},
     "output_type": "display_data"
    }
   ],
   "source": [
    "plt.figure(figsize = (5,3))\n",
    "count_and_plot(y_random)"
   ]
  },
  {
   "cell_type": "code",
   "execution_count": 16,
   "id": "eec44171",
   "metadata": {},
   "outputs": [
    {
     "name": "stdout",
     "output_type": "stream",
     "text": [
      "언더 샘플링_랜덤언더 샘플링_데이터 결과 : 3-Fold CV f1 score: 0.9953\n"
     ]
    }
   ],
   "source": [
    "Randomforest_Result(X_random, y_random, \"언더 샘플링_랜덤언더 샘플링_데이터 결과\")"
   ]
  },
  {
   "cell_type": "code",
   "execution_count": 17,
   "id": "7d9fe57f",
   "metadata": {},
   "outputs": [],
   "source": [
    "under_random_05 = RandomUnderSampler(sampling_strategy = 0.5)\n",
    "X_random_05, y_random_05 = under_random_05.fit_resample(X_data, y_class)"
   ]
  },
  {
   "cell_type": "code",
   "execution_count": 18,
   "id": "b1250192",
   "metadata": {},
   "outputs": [
    {
     "name": "stdout",
     "output_type": "stream",
     "text": [
      "Class = 0, n = 2000(66.667%)\n",
      "Class = 1, n = 1000(33.333%)\n"
     ]
    },
    {
     "data": {
      "image/png": "[encoded data removed]",
      "text/plain": [
       "<Figure size 360x216 with 1 Axes>"
      ]
     },
     "metadata": {},
     "output_type": "display_data"
    }
   ],
   "source": [
    "plt.figure(figsize = (5,3))\n",
    "count_and_plot(y_random_05)"
   ]
  },
  {
   "cell_type": "code",
   "execution_count": 19,
   "id": "81e4cd83",
   "metadata": {},
   "outputs": [
    {
     "name": "stdout",
     "output_type": "stream",
     "text": [
      "언더 샘플링_랜덤언더 샘플링_비율:0.5_데이터 결과 : 3-Fold CV f1 score: 0.9936\n"
     ]
    }
   ],
   "source": [
    "Randomforest_Result(X_random_05, y_random_05, \"언더 샘플링_랜덤언더 샘플링_비율:0.5_데이터 결과\")"
   ]
  },
  {
   "cell_type": "markdown",
   "id": "f1a50a03",
   "metadata": {},
   "source": [
    "### 3) TomekLinks"
   ]
  },
  {
   "cell_type": "code",
   "execution_count": 20,
   "id": "f3cc0cff",
   "metadata": {},
   "outputs": [],
   "source": [
    "tl = TomekLinks()\n",
    "X_tl, y_tl = tl.fit_resample(X_data, y_class)"
   ]
  },
  {
   "cell_type": "code",
   "execution_count": 21,
   "id": "75906f4d",
   "metadata": {},
   "outputs": [
    {
     "name": "stdout",
     "output_type": "stream",
     "text": [
      "Class = 0, n = 8993(89.993%)\n",
      "Class = 1, n = 1000(10.007%)\n"
     ]
    },
    {
     "data": {
      "image/png": "[encoded data removed]",
      "text/plain": [
       "<Figure size 360x216 with 1 Axes>"
      ]
     },
     "metadata": {},
     "output_type": "display_data"
    }
   ],
   "source": [
    "plt.figure(figsize=(5,3))\n",
    "count_and_plot(y_tl)"
   ]
  },
  {
   "cell_type": "code",
   "execution_count": 23,
   "id": "c7aa0b76",
   "metadata": {},
   "outputs": [
    {
     "name": "stdout",
     "output_type": "stream",
     "text": [
      "언더 샘플링_토멕링크_데이터 결과 : 3-Fold CV f1 score: 0.9889\n"
     ]
    }
   ],
   "source": [
    "Randomforest_Result(X_tl, y_tl, \"언더 샘플링_토멕링크_데이터 결과\")"
   ]
  },
  {
   "cell_type": "markdown",
   "id": "21ed4709",
   "metadata": {},
   "source": [
    "### 4) OSS(OneSidedSelection)"
   ]
  },
  {
   "cell_type": "code",
   "execution_count": 24,
   "id": "5c77c828",
   "metadata": {},
   "outputs": [],
   "source": [
    "oss = OneSidedSelection(random_state=42)\n",
    "X_oss, y_oss = oss.fit_resample(X_data, y_class)"
   ]
  },
  {
   "cell_type": "code",
   "execution_count": 25,
   "id": "7f7b5ffb",
   "metadata": {},
   "outputs": [
    {
     "name": "stdout",
     "output_type": "stream",
     "text": [
      "Class = 0, n = 7666(88.461%)\n",
      "Class = 1, n = 1000(11.539%)\n"
     ]
    },
    {
     "data": {
      "image/png": "[encoded data removed]",
      "text/plain": [
       "<Figure size 360x216 with 1 Axes>"
      ]
     },
     "metadata": {},
     "output_type": "display_data"
    }
   ],
   "source": [
    "plt.figure(figsize=(5,3))\n",
    "count_and_plot(y_oss)"
   ]
  },
  {
   "cell_type": "code",
   "execution_count": 26,
   "id": "ddf166b4",
   "metadata": {},
   "outputs": [
    {
     "name": "stdout",
     "output_type": "stream",
     "text": [
      "언더 샘플링_OSS_데이터 결과 : 3-Fold CV f1 score: 0.9891\n"
     ]
    }
   ],
   "source": [
    "Randomforest_Result(X_oss, y_oss, \"언더 샘플링_OSS_데이터 결과\")"
   ]
  },
  {
   "cell_type": "markdown",
   "id": "8684bdd7",
   "metadata": {},
   "source": [
    "## 3. Oversampling"
   ]
  },
  {
   "cell_type": "markdown",
   "id": "1a49dc48",
   "metadata": {},
   "source": [
    "### 1) 데이터셋 준비 및 확인"
   ]
  },
  {
   "cell_type": "code",
   "execution_count": 27,
   "id": "ee6909f5",
   "metadata": {},
   "outputs": [
    {
     "name": "stdout",
     "output_type": "stream",
     "text": [
      "(10000, 20)\n",
      "Class = 0, n = 9000(90.000%)\n",
      "Class = 1, n = 1000(10.000%)\n"
     ]
    },
    {
     "data": {
      "image/png": "[encoded data removed]",
      "text/plain": [
       "<Figure size 360x288 with 1 Axes>"
      ]
     },
     "metadata": {},
     "output_type": "display_data"
    }
   ],
   "source": [
    "X_data, y_class = make_classification(n_classes = 2, class_sep = 2, n_samples = 10000,\n",
    "                                      n_features = 20, weights = [0.9, 0.1], flip_y = 0,\n",
    "                                      n_clusters_per_class = 1, random_state=10)\n",
    "\n",
    "print(X_data.shape)\n",
    "y_class.shape\n",
    "\n",
    "plt.figure(figsize=(5,4))\n",
    "count_and_plot(y_class)"
   ]
  },
  {
   "cell_type": "code",
   "execution_count": 28,
   "id": "2bb5099b",
   "metadata": {},
   "outputs": [
    {
     "name": "stdout",
     "output_type": "stream",
     "text": [
      "오버 샘플링_원본 데이터 결과 : 3-Fold CV f1 score: 0.9889\n"
     ]
    }
   ],
   "source": [
    "Randomforest_Result(X_data, y_class, \"오버 샘플링_원본 데이터 결과\")"
   ]
  },
  {
   "cell_type": "markdown",
   "id": "9717a3ca",
   "metadata": {},
   "source": [
    "### 2) Random over sampling"
   ]
  },
  {
   "cell_type": "code",
   "execution_count": 29,
   "id": "011c795e",
   "metadata": {},
   "outputs": [],
   "source": [
    "ros = RandomOverSampler(random_state=42)\n",
    "X_ros, y_ros = ros.fit_resample(X_data, y_class)"
   ]
  },
  {
   "cell_type": "code",
   "execution_count": 30,
   "id": "167e9326",
   "metadata": {},
   "outputs": [
    {
     "name": "stdout",
     "output_type": "stream",
     "text": [
      "Class = 0, n = 9000(50.000%)\n",
      "Class = 1, n = 9000(50.000%)\n"
     ]
    },
    {
     "data": {
      "image/png": "[encoded data removed]",
      "text/plain": [
       "<Figure size 360x216 with 1 Axes>"
      ]
     },
     "metadata": {},
     "output_type": "display_data"
    }
   ],
   "source": [
    "plt.figure(figsize=(5,3))\n",
    "count_and_plot(y_ros)"
   ]
  },
  {
   "cell_type": "code",
   "execution_count": 31,
   "id": "959c516b",
   "metadata": {},
   "outputs": [
    {
     "name": "stdout",
     "output_type": "stream",
     "text": [
      "오버 샘플링_랜덤오버샘플링 결과 : 3-Fold CV f1 score: 0.9886\n"
     ]
    }
   ],
   "source": [
    "Randomforest_Result(X_data, y_class, \"오버 샘플링_랜덤오버샘플링 결과\")"
   ]
  },
  {
   "cell_type": "markdown",
   "id": "c7d2ccb8",
   "metadata": {},
   "source": [
    "### 3) SMOTE"
   ]
  },
  {
   "cell_type": "code",
   "execution_count": 32,
   "id": "a56133cf",
   "metadata": {},
   "outputs": [],
   "source": [
    "smote = SMOTE()\n",
    "X_sm, y_sm = smote.fit_resample(X_data, y_class)"
   ]
  },
  {
   "cell_type": "code",
   "execution_count": 33,
   "id": "76d40ad7",
   "metadata": {},
   "outputs": [
    {
     "name": "stdout",
     "output_type": "stream",
     "text": [
      "Class = 0, n = 9000(50.000%)\n",
      "Class = 1, n = 9000(50.000%)\n"
     ]
    },
    {
     "data": {
      "image/png": "[encoded data removed]",
      "text/plain": [
       "<Figure size 360x216 with 1 Axes>"
      ]
     },
     "metadata": {},
     "output_type": "display_data"
    }
   ],
   "source": [
    "plt.figure(figsize=(5,3))\n",
    "count_and_plot(y_sm)"
   ]
  },
  {
   "cell_type": "code",
   "execution_count": 34,
   "id": "0caa8a06",
   "metadata": {},
   "outputs": [
    {
     "name": "stdout",
     "output_type": "stream",
     "text": [
      "오버 샘플링_SMOTE 결과 : 3-Fold CV f1 score: 0.9983\n"
     ]
    }
   ],
   "source": [
    "Randomforest_Result(X_sm, y_sm, \"오버 샘플링_SMOTE 결과\")"
   ]
  },
  {
   "cell_type": "markdown",
   "id": "d0f4cf6b",
   "metadata": {},
   "source": [
    "### 4) ADASYN"
   ]
  },
  {
   "cell_type": "code",
   "execution_count": 35,
   "id": "325d36b1",
   "metadata": {},
   "outputs": [],
   "source": [
    "ada = ADASYN(random_state=42)\n",
    "X_ada, y_ada = ada.fit_resample(X_data, y_class)"
   ]
  },
  {
   "cell_type": "code",
   "execution_count": 36,
   "id": "1fe3266f",
   "metadata": {},
   "outputs": [
    {
     "name": "stdout",
     "output_type": "stream",
     "text": [
      "Class = 0, n = 9000(49.972%)\n",
      "Class = 1, n = 9010(50.028%)\n"
     ]
    },
    {
     "data": {
      "image/png": "[encoded data removed]",
      "text/plain": [
       "<Figure size 360x216 with 1 Axes>"
      ]
     },
     "metadata": {},
     "output_type": "display_data"
    }
   ],
   "source": [
    "plt.figure(figsize=(5,3))\n",
    "count_and_plot(y_ada)"
   ]
  },
  {
   "cell_type": "code",
   "execution_count": 37,
   "id": "c8a1c59c",
   "metadata": {},
   "outputs": [
    {
     "name": "stdout",
     "output_type": "stream",
     "text": [
      "오버 샘플링_ADASYN 결과 : 3-Fold CV f1 score: 0.9987\n"
     ]
    }
   ],
   "source": [
    "Randomforest_Result(X_ada, y_ada, \"오버 샘플링_ADASYN 결과\")"
   ]
  },
  {
   "cell_type": "markdown",
   "id": "97ed1bac",
   "metadata": {},
   "source": [
    "### 5) Boderline SMOTE"
   ]
  },
  {
   "cell_type": "code",
   "execution_count": 38,
   "id": "28e29f23",
   "metadata": {},
   "outputs": [],
   "source": [
    "bor_sm = BorderlineSMOTE(random_state=42)\n",
    "X_bor_sm, y_bor_sm = bor_sm.fit_resample(X_data, y_class)"
   ]
  },
  {
   "cell_type": "code",
   "execution_count": 39,
   "id": "d042c4c5",
   "metadata": {},
   "outputs": [
    {
     "name": "stdout",
     "output_type": "stream",
     "text": [
      "Class = 0, n = 9000(50.000%)\n",
      "Class = 1, n = 9000(50.000%)\n"
     ]
    },
    {
     "data": {
      "image/png": "[encoded data removed]",
      "text/plain": [
       "<Figure size 360x216 with 1 Axes>"
      ]
     },
     "metadata": {},
     "output_type": "display_data"
    }
   ],
   "source": [
    "plt.figure(figsize=(5,3))\n",
    "count_and_plot(y_bor_sm)"
   ]
  },
  {
   "cell_type": "code",
   "execution_count": 40,
   "id": "138bed3d",
   "metadata": {},
   "outputs": [
    {
     "name": "stdout",
     "output_type": "stream",
     "text": [
      "오버 샘플링_Boderline SMOTE 결과 : 3-Fold CV f1 score: 0.9988\n"
     ]
    }
   ],
   "source": [
    "Randomforest_Result(X_bor_sm, y_bor_sm, \"오버 샘플링_Boderline SMOTE 결과\")"
   ]
  }
 ],
 "metadata": {
  "kernelspec": {
   "display_name": "Python 3 (ipykernel)",
   "language": "python",
   "name": "python3"
  },
  "language_info": {
   "codemirror_mode": {
    "name": "ipython",
    "version": 3
   },
   "file_extension": ".py",
   "mimetype": "text/x-python",
   "name": "python",
   "nbconvert_exporter": "python",
   "pygments_lexer": "ipython3",
   "version": "3.9.12"
  }
 },
 "nbformat": 4,
 "nbformat_minor": 5
}
