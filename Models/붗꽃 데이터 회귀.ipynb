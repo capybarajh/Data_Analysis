{
 "cells": [
  {
   "cell_type": "code",
   "execution_count": 1,
   "id": "c7bfb9a5",
   "metadata": {},
   "outputs": [],
   "source": [
    "import numpy as np\n",
    "import pandas as pd\n",
    "import seaborn as sns\n",
    "from sklearn.datasets import load_iris\n",
    "from sklearn.model_selection import train_test_split\n",
    "\n",
    "iris = load_iris()\n",
    "df = pd.DataFrame(data = iris.data, columns = iris.feature_names)"
   ]
  },
  {
   "cell_type": "code",
   "execution_count": 2,
   "id": "e0412020",
   "metadata": {},
   "outputs": [],
   "source": [
    "y = df['petal width (cm)']\n",
    "X = df.drop(['petal width (cm)'], axis = 1)\n",
    "\n",
    "X_train, X_test, y_train, y_test = train_test_split(X,y, random_state = 42)"
   ]
  },
  {
   "cell_type": "markdown",
   "id": "6cc5bb08",
   "metadata": {},
   "source": [
    "## 선형회귀 모델"
   ]
  },
  {
   "cell_type": "code",
   "execution_count": 3,
   "id": "abd03ef8",
   "metadata": {},
   "outputs": [
    {
     "name": "stdout",
     "output_type": "stream",
     "text": [
      "weight: [-0.24488106  0.24482729  0.53764071]\n",
      "bias: -0.1491639103657183\n"
     ]
    }
   ],
   "source": [
    "from sklearn.linear_model import LinearRegression\n",
    "\n",
    "lr_model = LinearRegression()\n",
    "\n",
    "lr_model.fit(X_train, y_train)\n",
    "print('weight:', lr_model.coef_)\n",
    "print('bias:', lr_model.intercept_)"
   ]
  },
  {
   "cell_type": "code",
   "execution_count": 4,
   "id": "981be6f2",
   "metadata": {},
   "outputs": [
    {
     "name": "stdout",
     "output_type": "stream",
     "text": [
      "선형회귀 모델 R2: 0.94\n"
     ]
    }
   ],
   "source": [
    "score = lr_model.score(X_test, y_test)\n",
    "print('선형회귀 모델 R2: {0:.2f}'.format(score))"
   ]
  },
  {
   "cell_type": "code",
   "execution_count": 5,
   "id": "89101623",
   "metadata": {},
   "outputs": [
    {
     "data": {
      "text/plain": [
       "<AxesSubplot:>"
      ]
     },
     "execution_count": 5,
     "metadata": {},
     "output_type": "execute_result"
    },
    {
     "data": {
      "image/png": "[encoded data removed]",
      "text/plain": [
       "<Figure size 432x288 with 1 Axes>"
      ]
     },
     "metadata": {
      "needs_background": "light"
     },
     "output_type": "display_data"
    }
   ],
   "source": [
    "y_pred = lr_model.predict(X_test)\n",
    "lr_df = pd.DataFrame(data = {'Y':y_test, 'Y_pred(lr)': y_pred, 'diff(lr)': np.round(np.abs(y_test - y_pred), 2)})\n",
    "sns.lineplot(data = lr_df)"
   ]
  },
  {
   "cell_type": "markdown",
   "id": "d4099ea1",
   "metadata": {},
   "source": [
    "## 의사결정나무 기반 회귀 알고리즘"
   ]
  },
  {
   "cell_type": "code",
   "execution_count": 6,
   "id": "5a3614ef",
   "metadata": {},
   "outputs": [
    {
     "name": "stdout",
     "output_type": "stream",
     "text": [
      "의사결정나무 R2: 0.87\n"
     ]
    }
   ],
   "source": [
    "from sklearn.tree import DecisionTreeRegressor\n",
    "\n",
    "tree_model = DecisionTreeRegressor(random_state = 42)\n",
    "tree_model.fit(X_train, y_train)\n",
    "\n",
    "score = tree_model.score(X_test, y_test)\n",
    "print('의사결정나무 R2: {0:.2f}'.format(score))"
   ]
  },
  {
   "cell_type": "code",
   "execution_count": 7,
   "id": "b52a5ae0",
   "metadata": {},
   "outputs": [
    {
     "data": {
      "text/html": [
       "<div>\n",
       "<style scoped>\n",
       "    .dataframe tbody tr th:only-of-type {\n",
       "        vertical-align: middle;\n",
       "    }\n",
       "\n",
       "    .dataframe tbody tr th {\n",
       "        vertical-align: top;\n",
       "    }\n",
       "\n",
       "    .dataframe thead th {\n",
       "        text-align: right;\n",
       "    }\n",
       "</style>\n",
       "<table border=\"1\" class=\"dataframe\">\n",
       "  <thead>\n",
       "    <tr style=\"text-align: right;\">\n",
       "      <th></th>\n",
       "      <th>Y</th>\n",
       "      <th>Y_pred(tree)</th>\n",
       "      <th>diff(tree)</th>\n",
       "    </tr>\n",
       "  </thead>\n",
       "  <tbody>\n",
       "    <tr>\n",
       "      <th>118</th>\n",
       "      <td>2.3</td>\n",
       "      <td>1.4</td>\n",
       "      <td>0.9</td>\n",
       "    </tr>\n",
       "    <tr>\n",
       "      <th>141</th>\n",
       "      <td>2.3</td>\n",
       "      <td>1.5</td>\n",
       "      <td>0.8</td>\n",
       "    </tr>\n",
       "    <tr>\n",
       "      <th>143</th>\n",
       "      <td>2.3</td>\n",
       "      <td>1.8</td>\n",
       "      <td>0.5</td>\n",
       "    </tr>\n",
       "    <tr>\n",
       "      <th>132</th>\n",
       "      <td>2.2</td>\n",
       "      <td>1.8</td>\n",
       "      <td>0.4</td>\n",
       "    </tr>\n",
       "    <tr>\n",
       "      <th>146</th>\n",
       "      <td>1.9</td>\n",
       "      <td>1.5</td>\n",
       "      <td>0.4</td>\n",
       "    </tr>\n",
       "    <tr>\n",
       "      <th>104</th>\n",
       "      <td>2.2</td>\n",
       "      <td>1.8</td>\n",
       "      <td>0.4</td>\n",
       "    </tr>\n",
       "    <tr>\n",
       "      <th>110</th>\n",
       "      <td>2.0</td>\n",
       "      <td>1.7</td>\n",
       "      <td>0.3</td>\n",
       "    </tr>\n",
       "    <tr>\n",
       "      <th>108</th>\n",
       "      <td>1.8</td>\n",
       "      <td>1.5</td>\n",
       "      <td>0.3</td>\n",
       "    </tr>\n",
       "    <tr>\n",
       "      <th>128</th>\n",
       "      <td>2.1</td>\n",
       "      <td>1.8</td>\n",
       "      <td>0.3</td>\n",
       "    </tr>\n",
       "    <tr>\n",
       "      <th>73</th>\n",
       "      <td>1.2</td>\n",
       "      <td>1.5</td>\n",
       "      <td>0.3</td>\n",
       "    </tr>\n",
       "  </tbody>\n",
       "</table>\n",
       "</div>"
      ],
      "text/plain": [
       "       Y  Y_pred(tree)  diff(tree)\n",
       "118  2.3           1.4         0.9\n",
       "141  2.3           1.5         0.8\n",
       "143  2.3           1.8         0.5\n",
       "132  2.2           1.8         0.4\n",
       "146  1.9           1.5         0.4\n",
       "104  2.2           1.8         0.4\n",
       "110  2.0           1.7         0.3\n",
       "108  1.8           1.5         0.3\n",
       "128  2.1           1.8         0.3\n",
       "73   1.2           1.5         0.3"
      ]
     },
     "execution_count": 7,
     "metadata": {},
     "output_type": "execute_result"
    }
   ],
   "source": [
    "y_pred = tree_model.predict(X_test)\n",
    "\n",
    "tree_df = pd.DataFrame(data = {'Y': y_test, 'Y_pred(tree)': y_pred, 'diff(tree)': np.round(np.abs(y_test - y_pred), 2)})\n",
    "tree_df.sort_values(by = ['diff(tree)'], ascending = False).head(10)"
   ]
  },
  {
   "cell_type": "code",
   "execution_count": 8,
   "id": "6bb5deb5",
   "metadata": {},
   "outputs": [
    {
     "data": {
      "text/plain": [
       "<AxesSubplot:>"
      ]
     },
     "execution_count": 8,
     "metadata": {},
     "output_type": "execute_result"
    },
    {
     "data": {
      "image/png": "[encoded data removed]",
      "text/plain": [
       "<Figure size 432x288 with 1 Axes>"
      ]
     },
     "metadata": {
      "needs_background": "light"
     },
     "output_type": "display_data"
    }
   ],
   "source": [
    "sns.lineplot(data = tree_df)"
   ]
  },
  {
   "cell_type": "code",
   "execution_count": 10,
   "id": "7d469914",
   "metadata": {},
   "outputs": [
    {
     "name": "stdout",
     "output_type": "stream",
     "text": [
      "RandomForestRegressor 모델 R2: 0.94\n",
      "LGBMRegressor 모델 R2: 0.95\n",
      "XGBRegressor 모델 R2: 0.91\n"
     ]
    }
   ],
   "source": [
    "from sklearn.ensemble import RandomForestRegressor\n",
    "from lightgbm import LGBMRegressor\n",
    "from xgboost import XGBRegressor\n",
    "\n",
    "forest_model = RandomForestRegressor(n_estimators = 100, random_state = 42)\n",
    "lgb_model = LGBMRegressor(n_estimators = 100, random_state = 42)\n",
    "xgb_model = XGBRegressor(n_estimators = 100, random_state = 42)\n",
    "\n",
    "model_list = [forest_model, lgb_model, xgb_model]\n",
    "\n",
    "for model in model_list:\n",
    "    model.fit(X_train, y_train)\n",
    "    score = model.score(X_test, y_test)\n",
    "    model_name = model.__class__.__name__\n",
    "    print('{0} 모델 R2: {1:.2f}'.format(model_name, score))"
   ]
  },
  {
   "cell_type": "code",
   "execution_count": 11,
   "id": "29822d32",
   "metadata": {},
   "outputs": [],
   "source": [
    "from sklearn.metrics import mean_squared_error, r2_score\n",
    "\n",
    "def printRegressorResult(y_test, y_pred):\n",
    "    mse = mean_squared_error(y_test, y_pred)\n",
    "    rmse = np.sqrt(mse)\n",
    "    r2 = r2_score(y_test, y_pred)\n",
    "    print('MSE : {0:.3f}, RMSE : {1:.3f}, r2 : {2:.3f}'.format(mse,rmse,r2))"
   ]
  },
  {
   "cell_type": "code",
   "execution_count": 12,
   "id": "4e6e9170",
   "metadata": {},
   "outputs": [
    {
     "name": "stdout",
     "output_type": "stream",
     "text": [
      "LinearRegression 모델\n",
      "MSE : 0.040, RMSE : 0.201, r2 : 0.937\n",
      "DecisionTreeRegressor 모델\n",
      "MSE : 0.081, RMSE : 0.284, r2 : 0.874\n",
      "RandomForestRegressor 모델\n",
      "MSE : 0.041, RMSE : 0.204, r2 : 0.935\n",
      "LGBMRegressor 모델\n",
      "MSE : 0.031, RMSE : 0.176, r2 : 0.952\n",
      "XGBRegressor 모델\n",
      "MSE : 0.055, RMSE : 0.234, r2 : 0.914\n"
     ]
    }
   ],
   "source": [
    "model_list = [lr_model, tree_model, forest_model, lgb_model, xgb_model]\n",
    "\n",
    "for model in model_list:\n",
    "    y_preds = model.predict(X_test)\n",
    "    print('{0} 모델'.format(model.__class__.__name__))\n",
    "    printRegressorResult(y_test, y_preds)"
   ]
  },
  {
   "cell_type": "code",
   "execution_count": null,
   "id": "f24b8efe",
   "metadata": {},
   "outputs": [],
   "source": []
  }
 ],
 "metadata": {
  "kernelspec": {
   "display_name": "Python 3 (ipykernel)",
   "language": "python",
   "name": "python3"
  },
  "language_info": {
   "codemirror_mode": {
    "name": "ipython",
    "version": 3
   },
   "file_extension": ".py",
   "mimetype": "text/x-python",
   "name": "python",
   "nbconvert_exporter": "python",
   "pygments_lexer": "ipython3",
   "version": "3.9.12"
  }
 },
 "nbformat": 4,
 "nbformat_minor": 5
}
