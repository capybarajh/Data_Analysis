{
 "cells": [
  {
   "cell_type": "code",
   "execution_count": 1,
   "id": "bcea19ec",
   "metadata": {},
   "outputs": [],
   "source": [
    "import numpy as np\n",
    "import pandas as pd\n",
    "import matplotlib.pyplot as plt\n",
    "import seaborn as sns\n",
    "\n",
    "from sklearn.datasets import load_iris\n",
    "from sklearn.model_selection import train_test_split\n",
    "\n",
    "import tensorflow as tf\n",
    "\n",
    "from tensorflow.keras.models import Sequential\n",
    "from tensorflow.keras.layers import Dense"
   ]
  },
  {
   "cell_type": "code",
   "execution_count": 2,
   "id": "8e6edb06",
   "metadata": {},
   "outputs": [
    {
     "data": {
      "text/plain": [
       "'2.11.0'"
      ]
     },
     "execution_count": 2,
     "metadata": {},
     "output_type": "execute_result"
    }
   ],
   "source": [
    "tf.__version__"
   ]
  },
  {
   "cell_type": "code",
   "execution_count": 3,
   "id": "5c6a4c3f",
   "metadata": {},
   "outputs": [],
   "source": [
    "# 데이터 불러오기\n",
    "iris = load_iris()\n",
    "df = pd.DataFrame(data = iris.data, columns = iris.feature_names)\n",
    "df['label'] = iris.target"
   ]
  },
  {
   "cell_type": "code",
   "execution_count": 5,
   "id": "f847cf81",
   "metadata": {},
   "outputs": [],
   "source": [
    "# 데이터 분할\n",
    "y = df['label']\n",
    "X = df.drop(['label'], axis = 1)\n",
    "\n",
    "X_train, X_test, y_train, y_test = train_test_split(X, y, random_state = 42, stratify = y)"
   ]
  },
  {
   "cell_type": "code",
   "execution_count": 7,
   "id": "5c660ef0",
   "metadata": {},
   "outputs": [
    {
     "data": {
      "text/plain": [
       "(112, 4)"
      ]
     },
     "execution_count": 7,
     "metadata": {},
     "output_type": "execute_result"
    }
   ],
   "source": [
    "X_train.shape"
   ]
  },
  {
   "cell_type": "code",
   "execution_count": 8,
   "id": "ce8da470",
   "metadata": {},
   "outputs": [],
   "source": [
    "# 모델의 설정\n",
    "model = Sequential()\n",
    "model.add(Dense(8, input_dim = 4, activation = 'relu'))\n",
    "model.add(Dense(3, activation = 'softmax'))"
   ]
  },
  {
   "cell_type": "code",
   "execution_count": 9,
   "id": "e47ffc04",
   "metadata": {},
   "outputs": [],
   "source": [
    "# 모델 컴파일\n",
    "model.compile(loss = 'sparse_categorical_crossentropy',\n",
    "             optimizer = 'adam',\n",
    "             metrics = ['accuracy'])"
   ]
  },
  {
   "cell_type": "code",
   "execution_count": 10,
   "id": "218dab34",
   "metadata": {},
   "outputs": [
    {
     "name": "stdout",
     "output_type": "stream",
     "text": [
      "Model: \"sequential\"\n",
      "_________________________________________________________________\n",
      " Layer (type)                Output Shape              Param #   \n",
      "=================================================================\n",
      " dense (Dense)               (None, 8)                 40        \n",
      "                                                                 \n",
      " dense_1 (Dense)             (None, 3)                 27        \n",
      "                                                                 \n",
      "=================================================================\n",
      "Total params: 67\n",
      "Trainable params: 67\n",
      "Non-trainable params: 0\n",
      "_________________________________________________________________\n"
     ]
    }
   ],
   "source": [
    "model.summary()"
   ]
  },
  {
   "cell_type": "code",
   "execution_count": 11,
   "id": "cc481262",
   "metadata": {},
   "outputs": [
    {
     "name": "stdout",
     "output_type": "stream",
     "text": [
      "Epoch 1/50\n",
      "28/28 [==============================] - 1s 1ms/step - loss: 1.7302 - accuracy: 0.3304\n",
      "Epoch 2/50\n",
      "28/28 [==============================] - 0s 1ms/step - loss: 1.4018 - accuracy: 0.3393\n",
      "Epoch 3/50\n",
      "28/28 [==============================] - 0s 1ms/step - loss: 1.1899 - accuracy: 0.3393\n",
      "Epoch 4/50\n",
      "28/28 [==============================] - 0s 1ms/step - loss: 1.0911 - accuracy: 0.3393\n",
      "Epoch 5/50\n",
      "28/28 [==============================] - 0s 568us/step - loss: 1.0328 - accuracy: 0.3304\n",
      "Epoch 6/50\n",
      "28/28 [==============================] - 0s 709us/step - loss: 0.9747 - accuracy: 0.3393\n",
      "Epoch 7/50\n",
      "28/28 [==============================] - 0s 1ms/step - loss: 0.9262 - accuracy: 0.3571\n",
      "Epoch 8/50\n",
      "28/28 [==============================] - 0s 980us/step - loss: 0.8794 - accuracy: 0.3750\n",
      "Epoch 9/50\n",
      "28/28 [==============================] - 0s 610us/step - loss: 0.8397 - accuracy: 0.4821\n",
      "Epoch 10/50\n",
      "28/28 [==============================] - 0s 1ms/step - loss: 0.8032 - accuracy: 0.6429\n",
      "Epoch 11/50\n",
      "28/28 [==============================] - 0s 1ms/step - loss: 0.7621 - accuracy: 0.7589\n",
      "Epoch 12/50\n",
      "28/28 [==============================] - 0s 876us/step - loss: 0.7298 - accuracy: 0.7589\n",
      "Epoch 13/50\n",
      "28/28 [==============================] - 0s 1ms/step - loss: 0.7032 - accuracy: 0.7411\n",
      "Epoch 14/50\n",
      "28/28 [==============================] - 0s 617us/step - loss: 0.6794 - accuracy: 0.8214\n",
      "Epoch 15/50\n",
      "28/28 [==============================] - 0s 588us/step - loss: 0.6464 - accuracy: 0.8393\n",
      "Epoch 16/50\n",
      "28/28 [==============================] - 0s 1ms/step - loss: 0.6285 - accuracy: 0.8393\n",
      "Epoch 17/50\n",
      "28/28 [==============================] - 0s 1ms/step - loss: 0.6014 - accuracy: 0.9018\n",
      "Epoch 18/50\n",
      "28/28 [==============================] - 0s 602us/step - loss: 0.5900 - accuracy: 0.7589\n",
      "Epoch 19/50\n",
      "28/28 [==============================] - 0s 1ms/step - loss: 0.5660 - accuracy: 0.8839\n",
      "Epoch 20/50\n",
      "28/28 [==============================] - 0s 1ms/step - loss: 0.5494 - accuracy: 0.9286\n",
      "Epoch 21/50\n",
      "28/28 [==============================] - 0s 1ms/step - loss: 0.5333 - accuracy: 0.8214\n",
      "Epoch 22/50\n",
      "28/28 [==============================] - 0s 1ms/step - loss: 0.5175 - accuracy: 0.9196\n",
      "Epoch 23/50\n",
      "28/28 [==============================] - 0s 583us/step - loss: 0.5082 - accuracy: 0.8839\n",
      "Epoch 24/50\n",
      "28/28 [==============================] - 0s 1ms/step - loss: 0.4912 - accuracy: 0.9196\n",
      "Epoch 25/50\n",
      "28/28 [==============================] - 0s 1ms/step - loss: 0.4817 - accuracy: 0.9375\n",
      "Epoch 26/50\n",
      "28/28 [==============================] - 0s 1ms/step - loss: 0.4689 - accuracy: 0.9196\n",
      "Epoch 27/50\n",
      "28/28 [==============================] - 0s 1ms/step - loss: 0.4596 - accuracy: 0.9107\n",
      "Epoch 28/50\n",
      "28/28 [==============================] - 0s 1ms/step - loss: 0.4472 - accuracy: 0.9554\n",
      "Epoch 29/50\n",
      "28/28 [==============================] - 0s 1ms/step - loss: 0.4369 - accuracy: 0.9375\n",
      "Epoch 30/50\n",
      "28/28 [==============================] - 0s 1ms/step - loss: 0.4310 - accuracy: 0.9196\n",
      "Epoch 31/50\n",
      "28/28 [==============================] - 0s 791us/step - loss: 0.4172 - accuracy: 0.9554\n",
      "Epoch 32/50\n",
      "28/28 [==============================] - 0s 1ms/step - loss: 0.4151 - accuracy: 0.9643\n",
      "Epoch 33/50\n",
      "28/28 [==============================] - 0s 1ms/step - loss: 0.4114 - accuracy: 0.9018\n",
      "Epoch 34/50\n",
      "28/28 [==============================] - 0s 557us/step - loss: 0.3994 - accuracy: 0.9732\n",
      "Epoch 35/50\n",
      "28/28 [==============================] - 0s 1ms/step - loss: 0.3894 - accuracy: 0.9107\n",
      "Epoch 36/50\n",
      "28/28 [==============================] - 0s 468us/step - loss: 0.3836 - accuracy: 0.9375\n",
      "Epoch 37/50\n",
      "28/28 [==============================] - 0s 717us/step - loss: 0.3749 - accuracy: 0.9732\n",
      "Epoch 38/50\n",
      "28/28 [==============================] - 0s 1ms/step - loss: 0.3704 - accuracy: 0.9554\n",
      "Epoch 39/50\n",
      "28/28 [==============================] - 0s 873us/step - loss: 0.3604 - accuracy: 0.9554\n",
      "Epoch 40/50\n",
      "28/28 [==============================] - 0s 1ms/step - loss: 0.3533 - accuracy: 0.9732\n",
      "Epoch 41/50\n",
      "28/28 [==============================] - 0s 978us/step - loss: 0.3475 - accuracy: 0.9732\n",
      "Epoch 42/50\n",
      "28/28 [==============================] - 0s 477us/step - loss: 0.3444 - accuracy: 0.9732\n",
      "Epoch 43/50\n",
      "28/28 [==============================] - 0s 661us/step - loss: 0.3349 - accuracy: 0.9732\n",
      "Epoch 44/50\n",
      "28/28 [==============================] - 0s 1ms/step - loss: 0.3306 - accuracy: 0.9732\n",
      "Epoch 45/50\n",
      "28/28 [==============================] - 0s 975us/step - loss: 0.3268 - accuracy: 0.9821\n",
      "Epoch 46/50\n",
      "28/28 [==============================] - 0s 590us/step - loss: 0.3207 - accuracy: 0.9554\n",
      "Epoch 47/50\n",
      "28/28 [==============================] - 0s 1ms/step - loss: 0.3157 - accuracy: 0.9732\n",
      "Epoch 48/50\n",
      "28/28 [==============================] - 0s 1ms/step - loss: 0.3107 - accuracy: 0.9643\n",
      "Epoch 49/50\n",
      "28/28 [==============================] - 0s 554us/step - loss: 0.3062 - accuracy: 0.9732\n",
      "Epoch 50/50\n",
      "28/28 [==============================] - 0s 1ms/step - loss: 0.2985 - accuracy: 0.9732\n"
     ]
    },
    {
     "data": {
      "text/plain": [
       "<keras.callbacks.History at 0x209201957c0>"
      ]
     },
     "execution_count": 11,
     "metadata": {},
     "output_type": "execute_result"
    }
   ],
   "source": [
    "# 모델 실행\n",
    "model.fit(X_train, y_train, epochs = 50, batch_size = 4)"
   ]
  },
  {
   "cell_type": "code",
   "execution_count": 12,
   "id": "122e82c6",
   "metadata": {},
   "outputs": [
    {
     "name": "stdout",
     "output_type": "stream",
     "text": [
      "2/2 [==============================] - 0s 10ms/step - loss: 0.3349 - accuracy: 0.9737\n"
     ]
    },
    {
     "data": {
      "text/plain": [
       "[0.33492618799209595, 0.9736841917037964]"
      ]
     },
     "execution_count": 12,
     "metadata": {},
     "output_type": "execute_result"
    }
   ],
   "source": [
    "model.evaluate(X_test, y_test)"
   ]
  },
  {
   "cell_type": "code",
   "execution_count": 13,
   "id": "823098b2",
   "metadata": {},
   "outputs": [
    {
     "name": "stdout",
     "output_type": "stream",
     "text": [
      "2/2 [==============================] - 0s 0s/step\n"
     ]
    },
    {
     "data": {
      "text/plain": [
       "array([9.3980700e-01, 5.9426453e-02, 7.6654309e-04], dtype=float32)"
      ]
     },
     "execution_count": 13,
     "metadata": {},
     "output_type": "execute_result"
    }
   ],
   "source": [
    "model.predict(X_test)[0]"
   ]
  },
  {
   "cell_type": "code",
   "execution_count": 14,
   "id": "4e33881b",
   "metadata": {},
   "outputs": [
    {
     "name": "stdout",
     "output_type": "stream",
     "text": [
      "2/2 [==============================] - 0s 1ms/step\n"
     ]
    },
    {
     "data": {
      "text/plain": [
       "0"
      ]
     },
     "execution_count": 14,
     "metadata": {},
     "output_type": "execute_result"
    }
   ],
   "source": [
    "# 테스트 데이터로 예측한 값이 가장 큰 값을 반환(argmax)한 결과\n",
    "np.argmax(model.predict(X_test)[0])"
   ]
  },
  {
   "cell_type": "code",
   "execution_count": 15,
   "id": "d3a01ea2",
   "metadata": {},
   "outputs": [
    {
     "data": {
      "text/plain": [
       "0"
      ]
     },
     "execution_count": 15,
     "metadata": {},
     "output_type": "execute_result"
    }
   ],
   "source": [
    "# 테스트셋의 실제값\n",
    "y_test.iloc[0]"
   ]
  },
  {
   "cell_type": "code",
   "execution_count": null,
   "id": "06a029ed",
   "metadata": {},
   "outputs": [],
   "source": []
  }
 ],
 "metadata": {
  "kernelspec": {
   "display_name": "Python 3 (ipykernel)",
   "language": "python",
   "name": "python3"
  },
  "language_info": {
   "codemirror_mode": {
    "name": "ipython",
    "version": 3
   },
   "file_extension": ".py",
   "mimetype": "text/x-python",
   "name": "python",
   "nbconvert_exporter": "python",
   "pygments_lexer": "ipython3",
   "version": "3.9.12"
  }
 },
 "nbformat": 4,
 "nbformat_minor": 5
}
