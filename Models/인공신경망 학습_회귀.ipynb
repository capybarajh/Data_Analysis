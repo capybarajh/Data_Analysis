{
 "cells": [
  {
   "cell_type": "code",
   "execution_count": 1,
   "id": "02d6954a",
   "metadata": {},
   "outputs": [
    {
     "name": "stderr",
     "output_type": "stream",
     "text": [
      "C:\\Users\\user\\anaconda3\\lib\\site-packages\\sklearn\\utils\\deprecation.py:87: FutureWarning: Function load_boston is deprecated; `load_boston` is deprecated in 1.0 and will be removed in 1.2.\n",
      "\n",
      "    The Boston housing prices dataset has an ethical problem. You can refer to\n",
      "    the documentation of this function for further details.\n",
      "\n",
      "    The scikit-learn maintainers therefore strongly discourage the use of this\n",
      "    dataset unless the purpose of the code is to study and educate about\n",
      "    ethical issues in data science and machine learning.\n",
      "\n",
      "    In this special case, you can fetch the dataset from the original\n",
      "    source::\n",
      "\n",
      "        import pandas as pd\n",
      "        import numpy as np\n",
      "\n",
      "        data_url = \"http://lib.stat.cmu.edu/datasets/boston\"\n",
      "        raw_df = pd.read_csv(data_url, sep=\"\\s+\", skiprows=22, header=None)\n",
      "        data = np.hstack([raw_df.values[::2, :], raw_df.values[1::2, :2]])\n",
      "        target = raw_df.values[1::2, 2]\n",
      "\n",
      "    Alternative datasets include the California housing dataset (i.e.\n",
      "    :func:`~sklearn.datasets.fetch_california_housing`) and the Ames housing\n",
      "    dataset. You can load the datasets as follows::\n",
      "\n",
      "        from sklearn.datasets import fetch_california_housing\n",
      "        housing = fetch_california_housing()\n",
      "\n",
      "    for the California housing dataset and::\n",
      "\n",
      "        from sklearn.datasets import fetch_openml\n",
      "        housing = fetch_openml(name=\"house_prices\", as_frame=True)\n",
      "\n",
      "    for the Ames housing dataset.\n",
      "  warnings.warn(msg, category=FutureWarning)\n"
     ]
    },
    {
     "data": {
      "text/html": [
       "<div>\n",
       "<style scoped>\n",
       "    .dataframe tbody tr th:only-of-type {\n",
       "        vertical-align: middle;\n",
       "    }\n",
       "\n",
       "    .dataframe tbody tr th {\n",
       "        vertical-align: top;\n",
       "    }\n",
       "\n",
       "    .dataframe thead th {\n",
       "        text-align: right;\n",
       "    }\n",
       "</style>\n",
       "<table border=\"1\" class=\"dataframe\">\n",
       "  <thead>\n",
       "    <tr style=\"text-align: right;\">\n",
       "      <th></th>\n",
       "      <th>CRIM</th>\n",
       "      <th>ZN</th>\n",
       "      <th>INDUS</th>\n",
       "      <th>CHAS</th>\n",
       "      <th>NOX</th>\n",
       "      <th>RM</th>\n",
       "      <th>AGE</th>\n",
       "      <th>DIS</th>\n",
       "      <th>RAD</th>\n",
       "      <th>TAX</th>\n",
       "      <th>PTRATIO</th>\n",
       "      <th>B</th>\n",
       "      <th>LSTAT</th>\n",
       "      <th>PRICE</th>\n",
       "    </tr>\n",
       "  </thead>\n",
       "  <tbody>\n",
       "    <tr>\n",
       "      <th>0</th>\n",
       "      <td>0.00632</td>\n",
       "      <td>18.0</td>\n",
       "      <td>2.31</td>\n",
       "      <td>0.0</td>\n",
       "      <td>0.538</td>\n",
       "      <td>6.575</td>\n",
       "      <td>65.2</td>\n",
       "      <td>4.0900</td>\n",
       "      <td>1.0</td>\n",
       "      <td>296.0</td>\n",
       "      <td>15.3</td>\n",
       "      <td>396.90</td>\n",
       "      <td>4.98</td>\n",
       "      <td>24.0</td>\n",
       "    </tr>\n",
       "    <tr>\n",
       "      <th>1</th>\n",
       "      <td>0.02731</td>\n",
       "      <td>0.0</td>\n",
       "      <td>7.07</td>\n",
       "      <td>0.0</td>\n",
       "      <td>0.469</td>\n",
       "      <td>6.421</td>\n",
       "      <td>78.9</td>\n",
       "      <td>4.9671</td>\n",
       "      <td>2.0</td>\n",
       "      <td>242.0</td>\n",
       "      <td>17.8</td>\n",
       "      <td>396.90</td>\n",
       "      <td>9.14</td>\n",
       "      <td>21.6</td>\n",
       "    </tr>\n",
       "    <tr>\n",
       "      <th>2</th>\n",
       "      <td>0.02729</td>\n",
       "      <td>0.0</td>\n",
       "      <td>7.07</td>\n",
       "      <td>0.0</td>\n",
       "      <td>0.469</td>\n",
       "      <td>7.185</td>\n",
       "      <td>61.1</td>\n",
       "      <td>4.9671</td>\n",
       "      <td>2.0</td>\n",
       "      <td>242.0</td>\n",
       "      <td>17.8</td>\n",
       "      <td>392.83</td>\n",
       "      <td>4.03</td>\n",
       "      <td>34.7</td>\n",
       "    </tr>\n",
       "    <tr>\n",
       "      <th>3</th>\n",
       "      <td>0.03237</td>\n",
       "      <td>0.0</td>\n",
       "      <td>2.18</td>\n",
       "      <td>0.0</td>\n",
       "      <td>0.458</td>\n",
       "      <td>6.998</td>\n",
       "      <td>45.8</td>\n",
       "      <td>6.0622</td>\n",
       "      <td>3.0</td>\n",
       "      <td>222.0</td>\n",
       "      <td>18.7</td>\n",
       "      <td>394.63</td>\n",
       "      <td>2.94</td>\n",
       "      <td>33.4</td>\n",
       "    </tr>\n",
       "    <tr>\n",
       "      <th>4</th>\n",
       "      <td>0.06905</td>\n",
       "      <td>0.0</td>\n",
       "      <td>2.18</td>\n",
       "      <td>0.0</td>\n",
       "      <td>0.458</td>\n",
       "      <td>7.147</td>\n",
       "      <td>54.2</td>\n",
       "      <td>6.0622</td>\n",
       "      <td>3.0</td>\n",
       "      <td>222.0</td>\n",
       "      <td>18.7</td>\n",
       "      <td>396.90</td>\n",
       "      <td>5.33</td>\n",
       "      <td>36.2</td>\n",
       "    </tr>\n",
       "  </tbody>\n",
       "</table>\n",
       "</div>"
      ],
      "text/plain": [
       "      CRIM    ZN  INDUS  CHAS    NOX     RM   AGE     DIS  RAD    TAX  \\\n",
       "0  0.00632  18.0   2.31   0.0  0.538  6.575  65.2  4.0900  1.0  296.0   \n",
       "1  0.02731   0.0   7.07   0.0  0.469  6.421  78.9  4.9671  2.0  242.0   \n",
       "2  0.02729   0.0   7.07   0.0  0.469  7.185  61.1  4.9671  2.0  242.0   \n",
       "3  0.03237   0.0   2.18   0.0  0.458  6.998  45.8  6.0622  3.0  222.0   \n",
       "4  0.06905   0.0   2.18   0.0  0.458  7.147  54.2  6.0622  3.0  222.0   \n",
       "\n",
       "   PTRATIO       B  LSTAT  PRICE  \n",
       "0     15.3  396.90   4.98   24.0  \n",
       "1     17.8  396.90   9.14   21.6  \n",
       "2     17.8  392.83   4.03   34.7  \n",
       "3     18.7  394.63   2.94   33.4  \n",
       "4     18.7  396.90   5.33   36.2  "
      ]
     },
     "execution_count": 1,
     "metadata": {},
     "output_type": "execute_result"
    }
   ],
   "source": [
    "import numpy as np\n",
    "import pandas as pd\n",
    "import matplotlib.pyplot as plt\n",
    "import seaborn as sns\n",
    "\n",
    "from sklearn.datasets import load_boston\n",
    "\n",
    "boston = load_boston()\n",
    "boston_df = pd.DataFrame(data = boston.data, columns = boston.feature_names)\n",
    "boston_df['PRICE'] = boston.target\n",
    "boston_df.head()"
   ]
  },
  {
   "cell_type": "code",
   "execution_count": 2,
   "id": "dbd6abc5",
   "metadata": {},
   "outputs": [],
   "source": [
    "from sklearn.model_selection import train_test_split\n",
    "from tensorflow.keras.models import Sequential\n",
    "from tensorflow.keras.layers import Dense\n",
    "\n",
    "y = boston_df['PRICE']\n",
    "X = boston_df.drop(['PRICE'], axis = 1)\n",
    "\n",
    "X_train, X_test, y_train, y_test = train_test_split(X, y, random_state = 42)\n",
    "\n",
    "model = Sequential()\n",
    "model.add(Dense(16, input_dim = 13, activation = 'relu'))\n",
    "model.add(Dense(1, activation = 'relu'))"
   ]
  },
  {
   "cell_type": "code",
   "execution_count": 3,
   "id": "17d76cea",
   "metadata": {},
   "outputs": [
    {
     "name": "stdout",
     "output_type": "stream",
     "text": [
      "Model: \"sequential\"\n",
      "_________________________________________________________________\n",
      " Layer (type)                Output Shape              Param #   \n",
      "=================================================================\n",
      " dense (Dense)               (None, 16)                224       \n",
      "                                                                 \n",
      " dense_1 (Dense)             (None, 1)                 17        \n",
      "                                                                 \n",
      "=================================================================\n",
      "Total params: 241\n",
      "Trainable params: 241\n",
      "Non-trainable params: 0\n",
      "_________________________________________________________________\n"
     ]
    }
   ],
   "source": [
    "model.compile(loss = 'mean_squared_error',\n",
    "             optimizer = 'adam',\n",
    "             metrics = ['mse'])\n",
    "\n",
    "model.summary()"
   ]
  },
  {
   "cell_type": "code",
   "execution_count": 4,
   "id": "67d8d936",
   "metadata": {},
   "outputs": [
    {
     "name": "stdout",
     "output_type": "stream",
     "text": [
      "Epoch 1/50\n",
      "38/38 [==============================] - 1s 2ms/step - loss: 915.8191 - mse: 915.8191\n",
      "Epoch 2/50\n",
      "38/38 [==============================] - 0s 2ms/step - loss: 243.5120 - mse: 243.5120\n",
      "Epoch 3/50\n",
      "38/38 [==============================] - 0s 2ms/step - loss: 108.5321 - mse: 108.5322\n",
      "Epoch 4/50\n",
      "38/38 [==============================] - 0s 2ms/step - loss: 84.1205 - mse: 84.1205\n",
      "Epoch 5/50\n",
      "38/38 [==============================] - 0s 2ms/step - loss: 77.3440 - mse: 77.3440\n",
      "Epoch 6/50\n",
      "38/38 [==============================] - 0s 2ms/step - loss: 69.6502 - mse: 69.6502\n",
      "Epoch 7/50\n",
      "38/38 [==============================] - 0s 2ms/step - loss: 68.1780 - mse: 68.1780\n",
      "Epoch 8/50\n",
      "38/38 [==============================] - 0s 2ms/step - loss: 64.4008 - mse: 64.4008\n",
      "Epoch 9/50\n",
      "38/38 [==============================] - 0s 2ms/step - loss: 62.7328 - mse: 62.7328\n",
      "Epoch 10/50\n",
      "38/38 [==============================] - 0s 2ms/step - loss: 58.6229 - mse: 58.6229\n",
      "Epoch 11/50\n",
      "38/38 [==============================] - 0s 2ms/step - loss: 56.8973 - mse: 56.8973\n",
      "Epoch 12/50\n",
      "38/38 [==============================] - 0s 2ms/step - loss: 55.0239 - mse: 55.0239\n",
      "Epoch 13/50\n",
      "38/38 [==============================] - 0s 2ms/step - loss: 53.6557 - mse: 53.6557\n",
      "Epoch 14/50\n",
      "38/38 [==============================] - 0s 2ms/step - loss: 51.2373 - mse: 51.2373\n",
      "Epoch 15/50\n",
      "38/38 [==============================] - 0s 2ms/step - loss: 49.0089 - mse: 49.0089\n",
      "Epoch 16/50\n",
      "38/38 [==============================] - 0s 2ms/step - loss: 49.4690 - mse: 49.4690\n",
      "Epoch 17/50\n",
      "38/38 [==============================] - 0s 2ms/step - loss: 48.3421 - mse: 48.3421\n",
      "Epoch 18/50\n",
      "38/38 [==============================] - 0s 2ms/step - loss: 46.3244 - mse: 46.3244\n",
      "Epoch 19/50\n",
      "38/38 [==============================] - 0s 2ms/step - loss: 44.3886 - mse: 44.3886\n",
      "Epoch 20/50\n",
      "38/38 [==============================] - 0s 2ms/step - loss: 43.6098 - mse: 43.6098\n",
      "Epoch 21/50\n",
      "38/38 [==============================] - 0s 2ms/step - loss: 43.0592 - mse: 43.0592\n",
      "Epoch 22/50\n",
      "38/38 [==============================] - 0s 2ms/step - loss: 41.9967 - mse: 41.9967\n",
      "Epoch 23/50\n",
      "38/38 [==============================] - 0s 2ms/step - loss: 42.4024 - mse: 42.4024\n",
      "Epoch 24/50\n",
      "38/38 [==============================] - 0s 2ms/step - loss: 42.3447 - mse: 42.3447\n",
      "Epoch 25/50\n",
      "38/38 [==============================] - 0s 2ms/step - loss: 41.2696 - mse: 41.2696\n",
      "Epoch 26/50\n",
      "38/38 [==============================] - 0s 2ms/step - loss: 41.4172 - mse: 41.4172\n",
      "Epoch 27/50\n",
      "38/38 [==============================] - 0s 2ms/step - loss: 40.0123 - mse: 40.0123\n",
      "Epoch 28/50\n",
      "38/38 [==============================] - 0s 1ms/step - loss: 38.9794 - mse: 38.9794\n",
      "Epoch 29/50\n",
      "38/38 [==============================] - 0s 2ms/step - loss: 39.0321 - mse: 39.0321\n",
      "Epoch 30/50\n",
      "38/38 [==============================] - 0s 2ms/step - loss: 43.8078 - mse: 43.8078\n",
      "Epoch 31/50\n",
      "38/38 [==============================] - 0s 2ms/step - loss: 38.4912 - mse: 38.4912\n",
      "Epoch 32/50\n",
      "38/38 [==============================] - 0s 2ms/step - loss: 38.1786 - mse: 38.1786\n",
      "Epoch 33/50\n",
      "38/38 [==============================] - 0s 2ms/step - loss: 40.3461 - mse: 40.3461\n",
      "Epoch 34/50\n",
      "38/38 [==============================] - 0s 2ms/step - loss: 39.5547 - mse: 39.5547\n",
      "Epoch 35/50\n",
      "38/38 [==============================] - 0s 2ms/step - loss: 38.1578 - mse: 38.1578\n",
      "Epoch 36/50\n",
      "38/38 [==============================] - 0s 2ms/step - loss: 36.7705 - mse: 36.7705\n",
      "Epoch 37/50\n",
      "38/38 [==============================] - 0s 2ms/step - loss: 36.4320 - mse: 36.4320\n",
      "Epoch 38/50\n",
      "38/38 [==============================] - 0s 2ms/step - loss: 37.4866 - mse: 37.4866\n",
      "Epoch 39/50\n",
      "38/38 [==============================] - 0s 2ms/step - loss: 39.0773 - mse: 39.0773\n",
      "Epoch 40/50\n",
      "38/38 [==============================] - 0s 2ms/step - loss: 35.5078 - mse: 35.5078\n",
      "Epoch 41/50\n",
      "38/38 [==============================] - 0s 2ms/step - loss: 35.5621 - mse: 35.5621\n",
      "Epoch 42/50\n",
      "38/38 [==============================] - 0s 2ms/step - loss: 33.6478 - mse: 33.6478\n",
      "Epoch 43/50\n",
      "38/38 [==============================] - 0s 2ms/step - loss: 34.9453 - mse: 34.9453\n",
      "Epoch 44/50\n",
      "38/38 [==============================] - 0s 2ms/step - loss: 34.0539 - mse: 34.0539\n",
      "Epoch 45/50\n",
      "38/38 [==============================] - 0s 2ms/step - loss: 36.3028 - mse: 36.3028\n",
      "Epoch 46/50\n",
      "38/38 [==============================] - 0s 2ms/step - loss: 33.9044 - mse: 33.9044\n",
      "Epoch 47/50\n",
      "38/38 [==============================] - 0s 2ms/step - loss: 37.5368 - mse: 37.5368\n",
      "Epoch 48/50\n",
      "38/38 [==============================] - 0s 2ms/step - loss: 35.1917 - mse: 35.1917\n",
      "Epoch 49/50\n",
      "38/38 [==============================] - 0s 1ms/step - loss: 36.3917 - mse: 36.3917\n",
      "Epoch 50/50\n",
      "38/38 [==============================] - 0s 1ms/step - loss: 34.9406 - mse: 34.9406\n"
     ]
    },
    {
     "data": {
      "text/plain": [
       "<keras.callbacks.History at 0x29e9e4c0130>"
      ]
     },
     "execution_count": 4,
     "metadata": {},
     "output_type": "execute_result"
    }
   ],
   "source": [
    "model.fit(X_train, y_train, epochs = 50, batch_size = 10)"
   ]
  },
  {
   "cell_type": "code",
   "execution_count": 5,
   "id": "c3b2da19",
   "metadata": {},
   "outputs": [
    {
     "name": "stdout",
     "output_type": "stream",
     "text": [
      "4/4 [==============================] - 0s 2ms/step\n"
     ]
    },
    {
     "data": {
      "text/plain": [
       "array([31.092583], dtype=float32)"
      ]
     },
     "execution_count": 5,
     "metadata": {},
     "output_type": "execute_result"
    }
   ],
   "source": [
    "y_pred = model.predict(X_test)\n",
    "y_pred[0]"
   ]
  },
  {
   "cell_type": "code",
   "execution_count": 6,
   "id": "f24231bf",
   "metadata": {},
   "outputs": [
    {
     "data": {
      "text/plain": [
       "24.0"
      ]
     },
     "execution_count": 6,
     "metadata": {},
     "output_type": "execute_result"
    }
   ],
   "source": [
    "y_test[0]"
   ]
  },
  {
   "cell_type": "code",
   "execution_count": 7,
   "id": "4ff0c2e2",
   "metadata": {},
   "outputs": [
    {
     "data": {
      "text/plain": [
       "(127,)"
      ]
     },
     "execution_count": 7,
     "metadata": {},
     "output_type": "execute_result"
    }
   ],
   "source": [
    "y_test.shape"
   ]
  },
  {
   "cell_type": "code",
   "execution_count": 8,
   "id": "befd826e",
   "metadata": {},
   "outputs": [],
   "source": [
    "y_pred = np.reshape(y_pred, (127,))"
   ]
  },
  {
   "cell_type": "code",
   "execution_count": 9,
   "id": "99eff660",
   "metadata": {},
   "outputs": [
    {
     "data": {
      "text/html": [
       "<div>\n",
       "<style scoped>\n",
       "    .dataframe tbody tr th:only-of-type {\n",
       "        vertical-align: middle;\n",
       "    }\n",
       "\n",
       "    .dataframe tbody tr th {\n",
       "        vertical-align: top;\n",
       "    }\n",
       "\n",
       "    .dataframe thead th {\n",
       "        text-align: right;\n",
       "    }\n",
       "</style>\n",
       "<table border=\"1\" class=\"dataframe\">\n",
       "  <thead>\n",
       "    <tr style=\"text-align: right;\">\n",
       "      <th></th>\n",
       "      <th>y</th>\n",
       "      <th>y_pred</th>\n",
       "      <th>diff</th>\n",
       "    </tr>\n",
       "  </thead>\n",
       "  <tbody>\n",
       "    <tr>\n",
       "      <th>96</th>\n",
       "      <td>50.0</td>\n",
       "      <td>29.967758</td>\n",
       "      <td>20.032242</td>\n",
       "    </tr>\n",
       "    <tr>\n",
       "      <th>18</th>\n",
       "      <td>50.0</td>\n",
       "      <td>37.565712</td>\n",
       "      <td>12.434288</td>\n",
       "    </tr>\n",
       "    <tr>\n",
       "      <th>79</th>\n",
       "      <td>7.0</td>\n",
       "      <td>18.904678</td>\n",
       "      <td>11.904678</td>\n",
       "    </tr>\n",
       "    <tr>\n",
       "      <th>42</th>\n",
       "      <td>50.0</td>\n",
       "      <td>38.291580</td>\n",
       "      <td>11.708420</td>\n",
       "    </tr>\n",
       "    <tr>\n",
       "      <th>97</th>\n",
       "      <td>17.9</td>\n",
       "      <td>6.978148</td>\n",
       "      <td>10.921852</td>\n",
       "    </tr>\n",
       "    <tr>\n",
       "      <th>...</th>\n",
       "      <td>...</td>\n",
       "      <td>...</td>\n",
       "      <td>...</td>\n",
       "    </tr>\n",
       "    <tr>\n",
       "      <th>85</th>\n",
       "      <td>29.0</td>\n",
       "      <td>28.660149</td>\n",
       "      <td>0.339851</td>\n",
       "    </tr>\n",
       "    <tr>\n",
       "      <th>114</th>\n",
       "      <td>31.6</td>\n",
       "      <td>31.332161</td>\n",
       "      <td>0.267839</td>\n",
       "    </tr>\n",
       "    <tr>\n",
       "      <th>12</th>\n",
       "      <td>7.0</td>\n",
       "      <td>7.212943</td>\n",
       "      <td>0.212943</td>\n",
       "    </tr>\n",
       "    <tr>\n",
       "      <th>47</th>\n",
       "      <td>24.2</td>\n",
       "      <td>24.392014</td>\n",
       "      <td>0.192014</td>\n",
       "    </tr>\n",
       "    <tr>\n",
       "      <th>7</th>\n",
       "      <td>14.0</td>\n",
       "      <td>14.103347</td>\n",
       "      <td>0.103347</td>\n",
       "    </tr>\n",
       "  </tbody>\n",
       "</table>\n",
       "<p>127 rows × 3 columns</p>\n",
       "</div>"
      ],
      "text/plain": [
       "        y     y_pred       diff\n",
       "96   50.0  29.967758  20.032242\n",
       "18   50.0  37.565712  12.434288\n",
       "79    7.0  18.904678  11.904678\n",
       "42   50.0  38.291580  11.708420\n",
       "97   17.9   6.978148  10.921852\n",
       "..    ...        ...        ...\n",
       "85   29.0  28.660149   0.339851\n",
       "114  31.6  31.332161   0.267839\n",
       "12    7.0   7.212943   0.212943\n",
       "47   24.2  24.392014   0.192014\n",
       "7    14.0  14.103347   0.103347\n",
       "\n",
       "[127 rows x 3 columns]"
      ]
     },
     "execution_count": 9,
     "metadata": {},
     "output_type": "execute_result"
    }
   ],
   "source": [
    "result = pd.DataFrame({'y': y_test.values, 'y_pred': y_pred, 'diff': np.abs(y_test.values - y_pred)})\n",
    "result.sort_values(by = ['diff'], ascending = False)"
   ]
  },
  {
   "cell_type": "code",
   "execution_count": 10,
   "id": "8f0b7164",
   "metadata": {},
   "outputs": [],
   "source": [
    "# 과적합 확인\n",
    "history = model.fit(X_train, y_train, epochs = 500, verbose = 0, validation_split = 0.2)"
   ]
  },
  {
   "cell_type": "code",
   "execution_count": 19,
   "id": "714728d8",
   "metadata": {},
   "outputs": [],
   "source": [
    "def plot_loss(history):\n",
    "    plt.plot(history.history['loss'], label = 'loss')\n",
    "    plt.plot(history.history['val_loss'], label = 'val_loss')\n",
    "    plt.ylim([0, 100])\n",
    "    plt.xlabel('Epoch')\n",
    "    plt.ylabel('Error')\n",
    "    plt.legend()\n",
    "    plt.grid(True)"
   ]
  },
  {
   "cell_type": "code",
   "execution_count": 20,
   "id": "dab201e7",
   "metadata": {},
   "outputs": [
    {
     "data": {
      "image/png": "[encoded data removed]",
      "text/plain": [
       "<Figure size 432x288 with 1 Axes>"
      ]
     },
     "metadata": {
      "needs_background": "light"
     },
     "output_type": "display_data"
    }
   ],
   "source": [
    "plot_loss(history)"
   ]
  },
  {
   "cell_type": "code",
   "execution_count": 21,
   "id": "09268719",
   "metadata": {},
   "outputs": [],
   "source": [
    "## 손실값이 줄어들지만, 학습이 제대로 되지 않음"
   ]
  },
  {
   "cell_type": "code",
   "execution_count": 22,
   "id": "0983078c",
   "metadata": {},
   "outputs": [
    {
     "name": "stdout",
     "output_type": "stream",
     "text": [
      "Model: \"sequential_2\"\n",
      "_________________________________________________________________\n",
      " Layer (type)                Output Shape              Param #   \n",
      "=================================================================\n",
      " normalization_1 (Normalizat  (None, 13)               27        \n",
      " ion)                                                            \n",
      "                                                                 \n",
      " dense_4 (Dense)             (None, 16)                224       \n",
      "                                                                 \n",
      " dense_5 (Dense)             (None, 1)                 17        \n",
      "                                                                 \n",
      "=================================================================\n",
      "Total params: 268\n",
      "Trainable params: 241\n",
      "Non-trainable params: 27\n",
      "_________________________________________________________________\n"
     ]
    }
   ],
   "source": [
    "# 정규화\n",
    "from tensorflow.keras.layers.experimental import preprocessing\n",
    "\n",
    "normalizer = preprocessing.Normalization(axis = -1)\n",
    "normalizer.adapt(np.array(X_train))\n",
    "\n",
    "normalized_model = Sequential()\n",
    "normalized_model.add(normalizer)\n",
    "normalized_model.add(Dense(16, activation = 'relu'))\n",
    "normalized_model.add(Dense(1, activation = 'relu'))\n",
    "\n",
    "normalized_model.summary()"
   ]
  },
  {
   "cell_type": "code",
   "execution_count": 23,
   "id": "131838ac",
   "metadata": {},
   "outputs": [
    {
     "data": {
      "image/png": "[encoded data removed]",
      "text/plain": [
       "<Figure size 432x288 with 1 Axes>"
      ]
     },
     "metadata": {
      "needs_background": "light"
     },
     "output_type": "display_data"
    }
   ],
   "source": [
    "normalized_model.compile(loss = 'mean_squared_error',\n",
    "                        optimizer = 'adam',\n",
    "                        metrics = ['mse'])\n",
    "\n",
    "normalized_history = normalized_model.fit(X_train, y_train, epochs = 500, verbose = 0, validation_split= 0.2)\n",
    "\n",
    "plot_loss(normalized_history)"
   ]
  },
  {
   "cell_type": "code",
   "execution_count": 24,
   "id": "832c5277",
   "metadata": {},
   "outputs": [
    {
     "name": "stdout",
     "output_type": "stream",
     "text": [
      "4/4 [==============================] - 0s 5ms/step\n"
     ]
    },
    {
     "data": {
      "image/png": "[encoded data removed]",
      "text/plain": [
       "<Figure size 432x288 with 1 Axes>"
      ]
     },
     "metadata": {
      "needs_background": "light"
     },
     "output_type": "display_data"
    }
   ],
   "source": [
    "y_pred = normalized_model.predict(X_test).flatten()\n",
    "\n",
    "a = plt.axes(aspect = 'equal')\n",
    "plt.scatter(y_test, y_pred)\n",
    "plt.xlabel('True Values')\n",
    "plt.ylabel('Predictions')\n",
    "lims = [0, 60]\n",
    "plt.xlim(lims)\n",
    "plt.ylim(lims)\n",
    "_ = plt.plot(lims, lims)"
   ]
  },
  {
   "cell_type": "code",
   "execution_count": 25,
   "id": "f6f93d6f",
   "metadata": {},
   "outputs": [
    {
     "data": {
      "text/html": [
       "<div>\n",
       "<style scoped>\n",
       "    .dataframe tbody tr th:only-of-type {\n",
       "        vertical-align: middle;\n",
       "    }\n",
       "\n",
       "    .dataframe tbody tr th {\n",
       "        vertical-align: top;\n",
       "    }\n",
       "\n",
       "    .dataframe thead th {\n",
       "        text-align: right;\n",
       "    }\n",
       "</style>\n",
       "<table border=\"1\" class=\"dataframe\">\n",
       "  <thead>\n",
       "    <tr style=\"text-align: right;\">\n",
       "      <th></th>\n",
       "      <th>y</th>\n",
       "      <th>y_pred</th>\n",
       "      <th>diff</th>\n",
       "      <th>diff(abs)</th>\n",
       "    </tr>\n",
       "  </thead>\n",
       "  <tbody>\n",
       "    <tr>\n",
       "      <th>96</th>\n",
       "      <td>50.0</td>\n",
       "      <td>25.811747</td>\n",
       "      <td>24.188253</td>\n",
       "      <td>24.188253</td>\n",
       "    </tr>\n",
       "    <tr>\n",
       "      <th>111</th>\n",
       "      <td>27.5</td>\n",
       "      <td>13.649124</td>\n",
       "      <td>13.850876</td>\n",
       "      <td>13.850876</td>\n",
       "    </tr>\n",
       "    <tr>\n",
       "      <th>97</th>\n",
       "      <td>17.9</td>\n",
       "      <td>7.452739</td>\n",
       "      <td>10.447261</td>\n",
       "      <td>10.447261</td>\n",
       "    </tr>\n",
       "    <tr>\n",
       "      <th>15</th>\n",
       "      <td>29.8</td>\n",
       "      <td>20.975494</td>\n",
       "      <td>8.824506</td>\n",
       "      <td>8.824506</td>\n",
       "    </tr>\n",
       "    <tr>\n",
       "      <th>113</th>\n",
       "      <td>36.2</td>\n",
       "      <td>28.588791</td>\n",
       "      <td>7.611209</td>\n",
       "      <td>7.611209</td>\n",
       "    </tr>\n",
       "    <tr>\n",
       "      <th>...</th>\n",
       "      <td>...</td>\n",
       "      <td>...</td>\n",
       "      <td>...</td>\n",
       "      <td>...</td>\n",
       "    </tr>\n",
       "    <tr>\n",
       "      <th>51</th>\n",
       "      <td>35.4</td>\n",
       "      <td>35.343842</td>\n",
       "      <td>0.056158</td>\n",
       "      <td>0.056158</td>\n",
       "    </tr>\n",
       "    <tr>\n",
       "      <th>20</th>\n",
       "      <td>25.2</td>\n",
       "      <td>25.144293</td>\n",
       "      <td>0.055707</td>\n",
       "      <td>0.055707</td>\n",
       "    </tr>\n",
       "    <tr>\n",
       "      <th>69</th>\n",
       "      <td>12.7</td>\n",
       "      <td>12.750189</td>\n",
       "      <td>-0.050189</td>\n",
       "      <td>0.050189</td>\n",
       "    </tr>\n",
       "    <tr>\n",
       "      <th>31</th>\n",
       "      <td>23.8</td>\n",
       "      <td>23.760450</td>\n",
       "      <td>0.039550</td>\n",
       "      <td>0.039550</td>\n",
       "    </tr>\n",
       "    <tr>\n",
       "      <th>88</th>\n",
       "      <td>25.0</td>\n",
       "      <td>25.011692</td>\n",
       "      <td>-0.011692</td>\n",
       "      <td>0.011692</td>\n",
       "    </tr>\n",
       "  </tbody>\n",
       "</table>\n",
       "<p>127 rows × 4 columns</p>\n",
       "</div>"
      ],
      "text/plain": [
       "        y     y_pred       diff  diff(abs)\n",
       "96   50.0  25.811747  24.188253  24.188253\n",
       "111  27.5  13.649124  13.850876  13.850876\n",
       "97   17.9   7.452739  10.447261  10.447261\n",
       "15   29.8  20.975494   8.824506   8.824506\n",
       "113  36.2  28.588791   7.611209   7.611209\n",
       "..    ...        ...        ...        ...\n",
       "51   35.4  35.343842   0.056158   0.056158\n",
       "20   25.2  25.144293   0.055707   0.055707\n",
       "69   12.7  12.750189  -0.050189   0.050189\n",
       "31   23.8  23.760450   0.039550   0.039550\n",
       "88   25.0  25.011692  -0.011692   0.011692\n",
       "\n",
       "[127 rows x 4 columns]"
      ]
     },
     "execution_count": 25,
     "metadata": {},
     "output_type": "execute_result"
    }
   ],
   "source": [
    "result = pd.DataFrame({'y': y_test.values, 'y_pred': y_pred, 'diff': y_test.values - y_pred, \n",
    "                       'diff(abs)': np.abs(y_test.values - y_pred)})\n",
    "result.sort_values(by = ['diff(abs)'], ascending = False)"
   ]
  },
  {
   "cell_type": "code",
   "execution_count": 26,
   "id": "ada89397",
   "metadata": {},
   "outputs": [
    {
     "data": {
      "text/plain": [
       "<AxesSubplot:xlabel='diff', ylabel='Count'>"
      ]
     },
     "execution_count": 26,
     "metadata": {},
     "output_type": "execute_result"
    },
    {
     "data": {
      "image/png": "[encoded data removed]",
      "text/plain": [
       "<Figure size 432x288 with 1 Axes>"
      ]
     },
     "metadata": {
      "needs_background": "light"
     },
     "output_type": "display_data"
    }
   ],
   "source": [
    "sns.histplot(data = result['diff'], kde = True)"
   ]
  },
  {
   "cell_type": "code",
   "execution_count": null,
   "id": "9a451607",
   "metadata": {},
   "outputs": [],
   "source": []
  }
 ],
 "metadata": {
  "kernelspec": {
   "display_name": "Python 3 (ipykernel)",
   "language": "python",
   "name": "python3"
  },
  "language_info": {
   "codemirror_mode": {
    "name": "ipython",
    "version": 3
   },
   "file_extension": ".py",
   "mimetype": "text/x-python",
   "name": "python",
   "nbconvert_exporter": "python",
   "pygments_lexer": "ipython3",
   "version": "3.9.12"
  }
 },
 "nbformat": 4,
 "nbformat_minor": 5
}
